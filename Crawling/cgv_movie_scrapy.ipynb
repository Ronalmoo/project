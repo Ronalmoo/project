{
 "cells": [
  {
   "cell_type": "code",
   "execution_count": 2,
   "metadata": {},
   "outputs": [],
   "source": [
    "import scrapy\n",
    "import requests\n",
    "from scrapy.http import TextResponse"
   ]
  },
  {
   "cell_type": "code",
   "execution_count": 39,
   "metadata": {},
   "outputs": [
    {
     "name": "stdout",
     "output_type": "stream",
     "text": [
      "New Scrapy project 'cgv_movie', using template directory '/Users/seungmoo/.pyenv/versions/3.6.0/envs/tensorflow/lib/python3.6/site-packages/scrapy/templates/project', created in:\r\n",
      "    /Users/seungmoo/SM/Workspace/project/cgv_movie\r\n",
      "\r\n",
      "You can start your first spider with:\r\n",
      "    cd cgv_movie\r\n",
      "    scrapy genspider example example.com\r\n"
     ]
    }
   ],
   "source": [
    "!scrapy startproject cgv_movie"
   ]
  },
  {
   "cell_type": "code",
   "execution_count": 40,
   "metadata": {},
   "outputs": [
    {
     "name": "stdout",
     "output_type": "stream",
     "text": [
      "\u001b[01;34mcgv_movie/\u001b[00m\r\n",
      "├── \u001b[01;34mcgv_movie\u001b[00m\r\n",
      "│   ├── __init__.py\r\n",
      "│   ├── \u001b[01;34m__pycache__\u001b[00m\r\n",
      "│   ├── items.py\r\n",
      "│   ├── middlewares.py\r\n",
      "│   ├── pipelines.py\r\n",
      "│   ├── settings.py\r\n",
      "│   └── \u001b[01;34mspiders\u001b[00m\r\n",
      "│       ├── __init__.py\r\n",
      "│       └── \u001b[01;34m__pycache__\u001b[00m\r\n",
      "└── scrapy.cfg\r\n",
      "\r\n",
      "4 directories, 7 files\r\n"
     ]
    }
   ],
   "source": [
    "!tree cgv_movie/"
   ]
  },
  {
   "cell_type": "code",
   "execution_count": 41,
   "metadata": {},
   "outputs": [
    {
     "name": "stdout",
     "output_type": "stream",
     "text": [
      "Overwriting cgv_movie/cgv_movie/items.py\n"
     ]
    }
   ],
   "source": [
    "%%writefile cgv_movie/cgv_movie/items.py\n",
    "import scrapy\n",
    "\n",
    "class CgvMovieItem(scrapy.Item):\n",
    "    title = scrapy.Field()\n",
    "    count = scrapy.Field()\n",
    "    egg_point = scrapy.Field()\n",
    "    wish_list_count = scrapy.Field()"
   ]
  },
  {
   "cell_type": "code",
   "execution_count": 42,
   "metadata": {},
   "outputs": [
    {
     "name": "stdout",
     "output_type": "stream",
     "text": [
      "import scrapy\r\n",
      "\r\n",
      "class CgvMovieItem(scrapy.Item):\r\n",
      "    title = scrapy.Field()\r\n",
      "    count = scrapy.Field()\r\n",
      "    egg_point = scrapy.Field()\r\n",
      "    wish_list_count = scrapy.Field()\r\n"
     ]
    }
   ],
   "source": [
    "!cat cgv_movie/cgv_movie/items.py"
   ]
  },
  {
   "cell_type": "code",
   "execution_count": 14,
   "metadata": {},
   "outputs": [
    {
     "data": {
      "text/plain": [
       "['/movies/detail-view/?midx=81552',\n",
       " '/movies/detail-view/?midx=81552',\n",
       " '/movies/detail-view/?midx=81581',\n",
       " '/movies/detail-view/?midx=81581',\n",
       " '/movies/detail-view/?midx=81567',\n",
       " '/movies/detail-view/?midx=81567',\n",
       " '/movies/detail-view/?midx=81574',\n",
       " '/movies/detail-view/?midx=81574',\n",
       " '/movies/detail-view/?midx=81570',\n",
       " '/movies/detail-view/?midx=81570',\n",
       " '/movies/detail-view/?midx=80882',\n",
       " '/movies/detail-view/?midx=80882',\n",
       " '/movies/detail-view/?midx=81584',\n",
       " '/movies/detail-view/?midx=81584']"
      ]
     },
     "execution_count": 14,
     "metadata": {},
     "output_type": "execute_result"
    }
   ],
   "source": [
    "req = requests.get('http://www.cgv.co.kr/movies/')\n",
    "response = TextResponse(req.url, body=req.text, encoding='utf-8')\n",
    "links = response.xpath('//*[@id=\"contents\"]/div/div/ol/li/div/a/@href').extract()\n",
    "links"
   ]
  },
  {
   "cell_type": "code",
   "execution_count": 15,
   "metadata": {},
   "outputs": [
    {
     "data": {
      "text/plain": [
       "'http://www.cgv.co.kr/movies/detail-view/?midx=81552'"
      ]
     },
     "execution_count": 15,
     "metadata": {},
     "output_type": "execute_result"
    }
   ],
   "source": [
    "link = response.urljoin(links[0])\n",
    "link"
   ]
  },
  {
   "cell_type": "code",
   "execution_count": 38,
   "metadata": {},
   "outputs": [
    {
     "data": {
      "text/plain": [
       "('극한직업', '152,824명', ' 97% ', '19,384')"
      ]
     },
     "execution_count": 38,
     "metadata": {},
     "output_type": "execute_result"
    }
   ],
   "source": [
    "req = requests.get(link)\n",
    "response = TextResponse(req.url, body=req.text, encoding='utf-8')\n",
    "title = response.xpath('//*[@id=\"select_main\"]/div[2]/div[2]/div[1]/strong/text()').extract()[0]\n",
    "count = response.xpath('//*[@id=\"select_main\"]/div[2]/div[2]/div[2]/strong[2]/span/em/text()').extract()[0]\n",
    "egg_point = response.xpath('//*[@id=\"select_main\"]/div[2]/div[2]/div[2]/div/span[2]/text()').extract()[0]\n",
    "wish_list_count = response.xpath('//*[@id=\"select_main\"]/div[2]/div[2]/span[2]/span/strong/i/text()').extract()[0]\n",
    "title, count, egg_point, wish_list_count"
   ]
  },
  {
   "cell_type": "code",
   "execution_count": 43,
   "metadata": {},
   "outputs": [
    {
     "name": "stdout",
     "output_type": "stream",
     "text": [
      "Writing cgv_movie/cgv_movie/spiders/spider.py\n"
     ]
    }
   ],
   "source": [
    "%%writefile cgv_movie/cgv_movie/spiders/spider.py\n",
    "import scrapy\n",
    "from cgv_movie.items import CgvMovieItem\n",
    "\n",
    "class MovieSpider(scrapy.Spider):\n",
    "    name = \"CgvMovie\"\n",
    "    allow_domain = ['http://www.cgv.co.kr/']\n",
    "    start_urls = ['http://www.cgv.co.kr/movies/']\n",
    "    \n",
    "    def parse(self, response):\n",
    "        links = response.xpath('//*[@id=\"contents\"]/div/div/ol/li/div/a/@href').extract()\n",
    "        for link in links:\n",
    "            link = response.urljoin(link)\n",
    "            yield scrapy.Request(link, callback=self.parse_page_contents)\n",
    "\n",
    "    def parse_page_contents(self, response):\n",
    "        item = CgvMovieItem()\n",
    "        item['title'] = response.xpath('//*[@id=\"select_main\"]/div[2]/div[2]/div[1]/strong/text()').extract()[0]\n",
    "        item['count'] = response.xpath('//*[@id=\"select_main\"]/div[2]/div[2]/div[2]/strong[2]/span/em/text()').extract()[0]\n",
    "        item['egg_point'] = response.xpath('//*[@id=\"select_main\"]/div[2]/div[2]/div[2]/div/span[2]/text()').extract()[0]\n",
    "        item['wish_list_count'] = response.xpath('//*[@id=\"select_main\"]/div[2]/div[2]/span[2]/span/strong/i/text()').extract()[0]\n",
    "        \n",
    "        yield item           \n",
    "            "
   ]
  },
  {
   "cell_type": "code",
   "execution_count": 44,
   "metadata": {},
   "outputs": [
    {
     "name": "stdout",
     "output_type": "stream",
     "text": [
      "import scrapy\r\n",
      "from cgv_movie.items import CgvMovieItem\r\n",
      "\r\n",
      "class MovieSpider(scrapy.Spider):\r\n",
      "    name = \"CgvMovie\"\r\n",
      "    allow_domain = ['http://www.cgv.co.kr/']\r\n",
      "    start_urls = ['http://www.cgv.co.kr/movies/']\r\n",
      "    \r\n",
      "    def parse(self, response):\r\n",
      "        links = response.xpath('//*[@id=\"contents\"]/div/div/ol/li/div/a/@href').extract()\r\n",
      "        for link in links:\r\n",
      "            link = response.urljoin(link)\r\n",
      "            yield scrapy.Request(link, callback=self.parse_page_contents)\r\n",
      "\r\n",
      "    def parse_page_contents(self, response):\r\n",
      "        item = CgvMovieItem()\r\n",
      "        item['title'] = response.xpath('//*[@id=\"select_main\"]/div[2]/div[2]/div[1]/strong/text()').extract()[0]\r\n",
      "        item['count'] = response.xpath('//*[@id=\"select_main\"]/div[2]/div[2]/div[2]/strong[2]/span/em/text()').extract()[0]\r\n",
      "        item['egg_point'] = response.xpath('//*[@id=\"select_main\"]/div[2]/div[2]/div[2]/div/span[2]/text()').extract()[0]\r\n",
      "        item['wish_list_count'] = response.xpath('//*[@id=\"select_main\"]/div[2]/div[2]/span[2]/span/strong/i/text()').extract()[0]\r\n",
      "        \r\n",
      "        yield item           \r\n",
      "            \r\n"
     ]
    }
   ],
   "source": [
    "!cat cgv_movie/cgv_movie/spiders/spider.py"
   ]
  },
  {
   "cell_type": "code",
   "execution_count": 45,
   "metadata": {},
   "outputs": [
    {
     "name": "stdout",
     "output_type": "stream",
     "text": [
      "Overwriting run.sh\n"
     ]
    }
   ],
   "source": [
    "%%writefile run.sh\n",
    "cd cgv_movie\n",
    "scrapy crawl CgvMovie"
   ]
  },
  {
   "cell_type": "code",
   "execution_count": 46,
   "metadata": {},
   "outputs": [
    {
     "name": "stdout",
     "output_type": "stream",
     "text": [
      "2019-02-18 02:44:18 [scrapy.utils.log] INFO: Scrapy 1.6.0 started (bot: cgv_movie)\n",
      "2019-02-18 02:44:18 [scrapy.utils.log] INFO: Versions: lxml 4.3.1.0, libxml2 2.9.9, cssselect 1.0.3, parsel 1.5.1, w3lib 1.20.0, Twisted 18.9.0, Python 3.6.0 (default, Jan 15 2019, 09:54:55) - [GCC 4.2.1 Compatible Apple LLVM 10.0.0 (clang-1000.11.45.5)], pyOpenSSL 19.0.0 (OpenSSL 1.1.1a  20 Nov 2018), cryptography 2.5, Platform Darwin-17.7.0-x86_64-i386-64bit\n",
      "2019-02-18 02:44:18 [scrapy.crawler] INFO: Overridden settings: {'BOT_NAME': 'cgv_movie', 'NEWSPIDER_MODULE': 'cgv_movie.spiders', 'ROBOTSTXT_OBEY': True, 'SPIDER_MODULES': ['cgv_movie.spiders']}\n",
      "2019-02-18 02:44:18 [scrapy.extensions.telnet] INFO: Telnet Password: abc293da752bb3c2\n",
      "2019-02-18 02:44:18 [scrapy.middleware] INFO: Enabled extensions:\n",
      "['scrapy.extensions.corestats.CoreStats',\n",
      " 'scrapy.extensions.telnet.TelnetConsole',\n",
      " 'scrapy.extensions.memusage.MemoryUsage',\n",
      " 'scrapy.extensions.logstats.LogStats']\n",
      "2019-02-18 02:44:18 [scrapy.middleware] INFO: Enabled downloader middlewares:\n",
      "['scrapy.downloadermiddlewares.robotstxt.RobotsTxtMiddleware',\n",
      " 'scrapy.downloadermiddlewares.httpauth.HttpAuthMiddleware',\n",
      " 'scrapy.downloadermiddlewares.downloadtimeout.DownloadTimeoutMiddleware',\n",
      " 'scrapy.downloadermiddlewares.defaultheaders.DefaultHeadersMiddleware',\n",
      " 'scrapy.downloadermiddlewares.useragent.UserAgentMiddleware',\n",
      " 'scrapy.downloadermiddlewares.retry.RetryMiddleware',\n",
      " 'scrapy.downloadermiddlewares.redirect.MetaRefreshMiddleware',\n",
      " 'scrapy.downloadermiddlewares.httpcompression.HttpCompressionMiddleware',\n",
      " 'scrapy.downloadermiddlewares.redirect.RedirectMiddleware',\n",
      " 'scrapy.downloadermiddlewares.cookies.CookiesMiddleware',\n",
      " 'scrapy.downloadermiddlewares.httpproxy.HttpProxyMiddleware',\n",
      " 'scrapy.downloadermiddlewares.stats.DownloaderStats']\n",
      "2019-02-18 02:44:18 [scrapy.middleware] INFO: Enabled spider middlewares:\n",
      "['scrapy.spidermiddlewares.httperror.HttpErrorMiddleware',\n",
      " 'scrapy.spidermiddlewares.offsite.OffsiteMiddleware',\n",
      " 'scrapy.spidermiddlewares.referer.RefererMiddleware',\n",
      " 'scrapy.spidermiddlewares.urllength.UrlLengthMiddleware',\n",
      " 'scrapy.spidermiddlewares.depth.DepthMiddleware']\n",
      "2019-02-18 02:44:18 [scrapy.middleware] INFO: Enabled item pipelines:\n",
      "[]\n",
      "2019-02-18 02:44:18 [scrapy.core.engine] INFO: Spider opened\n",
      "2019-02-18 02:44:18 [scrapy.extensions.logstats] INFO: Crawled 0 pages (at 0 pages/min), scraped 0 items (at 0 items/min)\n",
      "2019-02-18 02:44:18 [scrapy.extensions.telnet] INFO: Telnet console listening on 127.0.0.1:6023\n",
      "2019-02-18 02:44:36 [scrapy.downloadermiddlewares.retry] DEBUG: Retrying <GET http://www.cgv.co.kr/robots.txt> (failed 1 times): [<twisted.python.failure.Failure twisted.internet.error.ConnectionLost: Connection to the other side was lost in a non-clean fashion.>]\n",
      "2019-02-18 02:44:54 [scrapy.downloadermiddlewares.retry] DEBUG: Retrying <GET http://www.cgv.co.kr/robots.txt> (failed 2 times): [<twisted.python.failure.Failure twisted.internet.error.ConnectionLost: Connection to the other side was lost in a non-clean fashion.>]\n",
      "2019-02-18 02:45:18 [scrapy.extensions.logstats] INFO: Crawled 0 pages (at 0 pages/min), scraped 0 items (at 0 items/min)\n",
      "^C\n",
      "2019-02-18 02:45:24 [scrapy.crawler] INFO: Received SIGINT, shutting down gracefully. Send again to force \n",
      "2019-02-18 02:45:24 [scrapy.core.engine] INFO: Closing spider (shutdown)\n"
     ]
    }
   ],
   "source": [
    "!source run.sh"
   ]
  },
  {
   "cell_type": "code",
   "execution_count": 47,
   "metadata": {},
   "outputs": [
    {
     "name": "stdout",
     "output_type": "stream",
     "text": [
      "# -*- coding: utf-8 -*-\r\n",
      "\r\n",
      "# Scrapy settings for cgv_movie project\r\n",
      "#\r\n",
      "# For simplicity, this file contains only settings considered important or\r\n",
      "# commonly used. You can find more settings consulting the documentation:\r\n",
      "#\r\n",
      "#     https://doc.scrapy.org/en/latest/topics/settings.html\r\n",
      "#     https://doc.scrapy.org/en/latest/topics/downloader-middleware.html\r\n",
      "#     https://doc.scrapy.org/en/latest/topics/spider-middleware.html\r\n",
      "\r\n",
      "BOT_NAME = 'cgv_movie'\r\n",
      "\r\n",
      "SPIDER_MODULES = ['cgv_movie.spiders']\r\n",
      "NEWSPIDER_MODULE = 'cgv_movie.spiders'\r\n",
      "\r\n",
      "\r\n",
      "# Crawl responsibly by identifying yourself (and your website) on the user-agent\r\n",
      "#USER_AGENT = 'cgv_movie (+http://www.yourdomain.com)'\r\n",
      "\r\n",
      "# Obey robots.txt rules\r\n",
      "ROBOTSTXT_OBEY = True\r\n",
      "\r\n",
      "# Configure maximum concurrent requests performed by Scrapy (default: 16)\r\n",
      "#CONCURRENT_REQUESTS = 32\r\n",
      "\r\n",
      "# Configure a delay for requests for the same website (default: 0)\r\n",
      "# See https://doc.scrapy.org/en/latest/topics/settings.html#download-delay\r\n",
      "# See also autothrottle settings and docs\r\n",
      "#DOWNLOAD_DELAY = 3\r\n",
      "# The download delay setting will honor only one of:\r\n",
      "#CONCURRENT_REQUESTS_PER_DOMAIN = 16\r\n",
      "#CONCURRENT_REQUESTS_PER_IP = 16\r\n",
      "\r\n",
      "# Disable cookies (enabled by default)\r\n",
      "#COOKIES_ENABLED = False\r\n",
      "\r\n",
      "# Disable Telnet Console (enabled by default)\r\n",
      "#TELNETCONSOLE_ENABLED = False\r\n",
      "\r\n",
      "# Override the default request headers:\r\n",
      "#DEFAULT_REQUEST_HEADERS = {\r\n",
      "#   'Accept': 'text/html,application/xhtml+xml,application/xml;q=0.9,*/*;q=0.8',\r\n",
      "#   'Accept-Language': 'en',\r\n",
      "#}\r\n",
      "\r\n",
      "# Enable or disable spider middlewares\r\n",
      "# See https://doc.scrapy.org/en/latest/topics/spider-middleware.html\r\n",
      "#SPIDER_MIDDLEWARES = {\r\n",
      "#    'cgv_movie.middlewares.CgvMovieSpiderMiddleware': 543,\r\n",
      "#}\r\n",
      "\r\n",
      "# Enable or disable downloader middlewares\r\n",
      "# See https://doc.scrapy.org/en/latest/topics/downloader-middleware.html\r\n",
      "#DOWNLOADER_MIDDLEWARES = {\r\n",
      "#    'cgv_movie.middlewares.CgvMovieDownloaderMiddleware': 543,\r\n",
      "#}\r\n",
      "\r\n",
      "# Enable or disable extensions\r\n",
      "# See https://doc.scrapy.org/en/latest/topics/extensions.html\r\n",
      "#EXTENSIONS = {\r\n",
      "#    'scrapy.extensions.telnet.TelnetConsole': None,\r\n",
      "#}\r\n",
      "\r\n",
      "# Configure item pipelines\r\n",
      "# See https://doc.scrapy.org/en/latest/topics/item-pipeline.html\r\n",
      "#ITEM_PIPELINES = {\r\n",
      "#    'cgv_movie.pipelines.CgvMoviePipeline': 300,\r\n",
      "#}\r\n",
      "\r\n",
      "# Enable and configure the AutoThrottle extension (disabled by default)\r\n",
      "# See https://doc.scrapy.org/en/latest/topics/autothrottle.html\r\n",
      "#AUTOTHROTTLE_ENABLED = True\r\n",
      "# The initial download delay\r\n",
      "#AUTOTHROTTLE_START_DELAY = 5\r\n",
      "# The maximum download delay to be set in case of high latencies\r\n",
      "#AUTOTHROTTLE_MAX_DELAY = 60\r\n",
      "# The average number of requests Scrapy should be sending in parallel to\r\n",
      "# each remote server\r\n",
      "#AUTOTHROTTLE_TARGET_CONCURRENCY = 1.0\r\n",
      "# Enable showing throttling stats for every response received:\r\n",
      "#AUTOTHROTTLE_DEBUG = False\r\n",
      "\r\n",
      "# Enable and configure HTTP caching (disabled by default)\r\n",
      "# See https://doc.scrapy.org/en/latest/topics/downloader-middleware.html#httpcache-middleware-settings\r\n",
      "#HTTPCACHE_ENABLED = True\r\n",
      "#HTTPCACHE_EXPIRATION_SECS = 0\r\n",
      "#HTTPCACHE_DIR = 'httpcache'\r\n",
      "#HTTPCACHE_IGNORE_HTTP_CODES = []\r\n",
      "#HTTPCACHE_STORAGE = 'scrapy.extensions.httpcache.FilesystemCacheStorage'\r\n"
     ]
    }
   ],
   "source": [
    "!cat cgv_movie/cgv_movie/settings.py"
   ]
  },
  {
   "cell_type": "code",
   "execution_count": 48,
   "metadata": {},
   "outputs": [],
   "source": [
    "!sed -i .bak 's/ROBOTSTXT_OBEY = True/ROBOTSTXT_OBEY = False/' cgv_movie/cgv_movie/settings.py\n"
   ]
  },
  {
   "cell_type": "code",
   "execution_count": 49,
   "metadata": {},
   "outputs": [
    {
     "name": "stdout",
     "output_type": "stream",
     "text": [
      "__init__.py     items.py        pipelines.py    settings.py.bak\r\n",
      "\u001b[1m\u001b[36m__pycache__\u001b[m\u001b[m     middlewares.py  settings.py     \u001b[1m\u001b[36mspiders\u001b[m\u001b[m\r\n"
     ]
    }
   ],
   "source": [
    "!ls cgv_movie/cgv_movie/"
   ]
  },
  {
   "cell_type": "code",
   "execution_count": 50,
   "metadata": {},
   "outputs": [
    {
     "name": "stdout",
     "output_type": "stream",
     "text": [
      "2019-02-18 02:46:43 [scrapy.utils.log] INFO: Scrapy 1.6.0 started (bot: cgv_movie)\n",
      "2019-02-18 02:46:43 [scrapy.utils.log] INFO: Versions: lxml 4.3.1.0, libxml2 2.9.9, cssselect 1.0.3, parsel 1.5.1, w3lib 1.20.0, Twisted 18.9.0, Python 3.6.0 (default, Jan 15 2019, 09:54:55) - [GCC 4.2.1 Compatible Apple LLVM 10.0.0 (clang-1000.11.45.5)], pyOpenSSL 19.0.0 (OpenSSL 1.1.1a  20 Nov 2018), cryptography 2.5, Platform Darwin-17.7.0-x86_64-i386-64bit\n",
      "2019-02-18 02:46:43 [scrapy.crawler] INFO: Overridden settings: {'BOT_NAME': 'cgv_movie', 'NEWSPIDER_MODULE': 'cgv_movie.spiders', 'SPIDER_MODULES': ['cgv_movie.spiders']}\n",
      "2019-02-18 02:46:43 [scrapy.extensions.telnet] INFO: Telnet Password: 3201899a24e293d8\n",
      "2019-02-18 02:46:43 [scrapy.middleware] INFO: Enabled extensions:\n",
      "['scrapy.extensions.corestats.CoreStats',\n",
      " 'scrapy.extensions.telnet.TelnetConsole',\n",
      " 'scrapy.extensions.memusage.MemoryUsage',\n",
      " 'scrapy.extensions.logstats.LogStats']\n",
      "2019-02-18 02:46:43 [scrapy.middleware] INFO: Enabled downloader middlewares:\n",
      "['scrapy.downloadermiddlewares.httpauth.HttpAuthMiddleware',\n",
      " 'scrapy.downloadermiddlewares.downloadtimeout.DownloadTimeoutMiddleware',\n",
      " 'scrapy.downloadermiddlewares.defaultheaders.DefaultHeadersMiddleware',\n",
      " 'scrapy.downloadermiddlewares.useragent.UserAgentMiddleware',\n",
      " 'scrapy.downloadermiddlewares.retry.RetryMiddleware',\n",
      " 'scrapy.downloadermiddlewares.redirect.MetaRefreshMiddleware',\n",
      " 'scrapy.downloadermiddlewares.httpcompression.HttpCompressionMiddleware',\n",
      " 'scrapy.downloadermiddlewares.redirect.RedirectMiddleware',\n",
      " 'scrapy.downloadermiddlewares.cookies.CookiesMiddleware',\n",
      " 'scrapy.downloadermiddlewares.httpproxy.HttpProxyMiddleware',\n",
      " 'scrapy.downloadermiddlewares.stats.DownloaderStats']\n",
      "2019-02-18 02:46:43 [scrapy.middleware] INFO: Enabled spider middlewares:\n",
      "['scrapy.spidermiddlewares.httperror.HttpErrorMiddleware',\n",
      " 'scrapy.spidermiddlewares.offsite.OffsiteMiddleware',\n",
      " 'scrapy.spidermiddlewares.referer.RefererMiddleware',\n",
      " 'scrapy.spidermiddlewares.urllength.UrlLengthMiddleware',\n",
      " 'scrapy.spidermiddlewares.depth.DepthMiddleware']\n",
      "2019-02-18 02:46:43 [scrapy.middleware] INFO: Enabled item pipelines:\n",
      "[]\n",
      "2019-02-18 02:46:43 [scrapy.core.engine] INFO: Spider opened\n",
      "2019-02-18 02:46:43 [scrapy.extensions.logstats] INFO: Crawled 0 pages (at 0 pages/min), scraped 0 items (at 0 items/min)\n",
      "2019-02-18 02:46:43 [scrapy.extensions.telnet] INFO: Telnet console listening on 127.0.0.1:6023\n",
      "2019-02-18 02:46:43 [scrapy.core.engine] DEBUG: Crawled (200) <GET http://www.cgv.co.kr/movies/> (referer: None)\n",
      "2019-02-18 02:46:43 [scrapy.dupefilters] DEBUG: Filtered duplicate request: <GET http://www.cgv.co.kr/movies/detail-view/?midx=81552> - no more duplicates will be shown (see DUPEFILTER_DEBUG to show all duplicates)\n",
      "2019-02-18 02:46:43 [scrapy.core.engine] DEBUG: Crawled (200) <GET http://www.cgv.co.kr/movies/detail-view/?midx=81584> (referer: http://www.cgv.co.kr/movies/)\n",
      "2019-02-18 02:46:43 [scrapy.core.engine] DEBUG: Crawled (200) <GET http://www.cgv.co.kr/movies/detail-view/?midx=81570> (referer: http://www.cgv.co.kr/movies/)\n",
      "2019-02-18 02:46:43 [scrapy.core.scraper] DEBUG: Scraped from <200 http://www.cgv.co.kr/movies/detail-view/?midx=81584>\n",
      "{'count': '2,087명',\n",
      " 'egg_point': ' 94% ',\n",
      " 'title': '명탐정 코난-전율의 악보',\n",
      " 'wish_list_count': '3,145'}\n",
      "2019-02-18 02:46:43 [scrapy.core.engine] DEBUG: Crawled (200) <GET http://www.cgv.co.kr/movies/detail-view/?midx=81567> (referer: http://www.cgv.co.kr/movies/)\n",
      "2019-02-18 02:46:44 [scrapy.core.scraper] DEBUG: Scraped from <200 http://www.cgv.co.kr/movies/detail-view/?midx=81570>\n",
      "{'count': '5,435명',\n",
      " 'egg_point': ' 85% ',\n",
      " 'title': '해피 데스데이 2유',\n",
      " 'wish_list_count': '4,276'}\n",
      "2019-02-18 02:46:44 [scrapy.core.scraper] DEBUG: Scraped from <200 http://www.cgv.co.kr/movies/detail-view/?midx=81567>\n",
      "{'count': '38,758명',\n",
      " 'egg_point': ' 94% ',\n",
      " 'title': '알리타-배틀 엔젤',\n",
      " 'wish_list_count': '8,561'}\n",
      "2019-02-18 02:46:44 [scrapy.core.engine] DEBUG: Crawled (200) <GET http://www.cgv.co.kr/movies/detail-view/?midx=81552> (referer: http://www.cgv.co.kr/movies/)\n",
      "2019-02-18 02:46:44 [scrapy.core.engine] DEBUG: Crawled (200) <GET http://www.cgv.co.kr/movies/detail-view/?midx=81581> (referer: http://www.cgv.co.kr/movies/)\n",
      "2019-02-18 02:46:44 [scrapy.core.scraper] DEBUG: Scraped from <200 http://www.cgv.co.kr/movies/detail-view/?midx=81552>\n",
      "{'count': '152,824명',\n",
      " 'egg_point': ' 97% ',\n",
      " 'title': '극한직업',\n",
      " 'wish_list_count': '19,384'}\n",
      "2019-02-18 02:46:44 [scrapy.core.engine] DEBUG: Crawled (200) <GET http://www.cgv.co.kr/movies/detail-view/?midx=81574> (referer: http://www.cgv.co.kr/movies/)\n",
      "2019-02-18 02:46:44 [scrapy.core.engine] DEBUG: Crawled (200) <GET http://www.cgv.co.kr/movies/detail-view/?midx=80882> (referer: http://www.cgv.co.kr/movies/)\n",
      "2019-02-18 02:46:44 [scrapy.core.scraper] DEBUG: Scraped from <200 http://www.cgv.co.kr/movies/detail-view/?midx=81581>\n",
      "{'count': '13,188명',\n",
      " 'egg_point': ' 99% ',\n",
      " 'title': '증인',\n",
      " 'wish_list_count': '8,253'}\n",
      "2019-02-18 02:46:44 [scrapy.core.scraper] DEBUG: Scraped from <200 http://www.cgv.co.kr/movies/detail-view/?midx=81574>\n",
      "{'count': '4,575명',\n",
      " 'egg_point': ' 88% ',\n",
      " 'title': '메리 포핀스 리턴즈',\n",
      " 'wish_list_count': '34,757'}\n",
      "2019-02-18 02:46:44 [scrapy.core.scraper] DEBUG: Scraped from <200 http://www.cgv.co.kr/movies/detail-view/?midx=80882>\n",
      "{'count': '26,839명',\n",
      " 'egg_point': ' 97% ',\n",
      " 'title': '드래곤 길들이기 3',\n",
      " 'wish_list_count': '31,705'}\n",
      "2019-02-18 02:46:44 [scrapy.core.engine] INFO: Closing spider (finished)\n",
      "2019-02-18 02:46:44 [scrapy.statscollectors] INFO: Dumping Scrapy stats:\n",
      "{'downloader/request_bytes': 2690,\n",
      " 'downloader/request_count': 8,\n",
      " 'downloader/request_method_count/GET': 8,\n",
      " 'downloader/response_bytes': 1306656,\n",
      " 'downloader/response_count': 8,\n",
      " 'downloader/response_status_count/200': 8,\n",
      " 'dupefilter/filtered': 7,\n",
      " 'finish_reason': 'finished',\n",
      " 'finish_time': datetime.datetime(2019, 2, 17, 17, 46, 44, 558961),\n",
      " 'item_scraped_count': 7,\n",
      " 'log_count/DEBUG': 16,\n",
      " 'log_count/INFO': 9,\n",
      " 'memusage/max': 51830784,\n",
      " 'memusage/startup': 51830784,\n",
      " 'request_depth_max': 1,\n",
      " 'response_received_count': 8,\n",
      " 'scheduler/dequeued': 8,\n",
      " 'scheduler/dequeued/memory': 8,\n",
      " 'scheduler/enqueued': 8,\n",
      " 'scheduler/enqueued/memory': 8,\n",
      " 'start_time': datetime.datetime(2019, 2, 17, 17, 46, 43, 456401)}\n",
      "2019-02-18 02:46:44 [scrapy.core.engine] INFO: Spider closed (finished)\n"
     ]
    }
   ],
   "source": [
    "!source run.sh"
   ]
  },
  {
   "cell_type": "code",
   "execution_count": 51,
   "metadata": {},
   "outputs": [
    {
     "name": "stdout",
     "output_type": "stream",
     "text": [
      "Overwriting run.sh\n"
     ]
    }
   ],
   "source": [
    "%%writefile run.sh\n",
    "cd cgv_movie\n",
    "scrapy crawl CgvMovie -o cgv_movie.csv"
   ]
  },
  {
   "cell_type": "code",
   "execution_count": 52,
   "metadata": {},
   "outputs": [
    {
     "name": "stdout",
     "output_type": "stream",
     "text": [
      "2019-02-18 02:47:33 [scrapy.utils.log] INFO: Scrapy 1.6.0 started (bot: cgv_movie)\n",
      "2019-02-18 02:47:33 [scrapy.utils.log] INFO: Versions: lxml 4.3.1.0, libxml2 2.9.9, cssselect 1.0.3, parsel 1.5.1, w3lib 1.20.0, Twisted 18.9.0, Python 3.6.0 (default, Jan 15 2019, 09:54:55) - [GCC 4.2.1 Compatible Apple LLVM 10.0.0 (clang-1000.11.45.5)], pyOpenSSL 19.0.0 (OpenSSL 1.1.1a  20 Nov 2018), cryptography 2.5, Platform Darwin-17.7.0-x86_64-i386-64bit\n",
      "2019-02-18 02:47:33 [scrapy.crawler] INFO: Overridden settings: {'BOT_NAME': 'cgv_movie', 'FEED_FORMAT': 'csv', 'FEED_URI': 'cgv_movie.csv', 'NEWSPIDER_MODULE': 'cgv_movie.spiders', 'SPIDER_MODULES': ['cgv_movie.spiders']}\n",
      "2019-02-18 02:47:33 [scrapy.extensions.telnet] INFO: Telnet Password: 68d3c24efaf5826f\n",
      "2019-02-18 02:47:33 [scrapy.middleware] INFO: Enabled extensions:\n",
      "['scrapy.extensions.corestats.CoreStats',\n",
      " 'scrapy.extensions.telnet.TelnetConsole',\n",
      " 'scrapy.extensions.memusage.MemoryUsage',\n",
      " 'scrapy.extensions.feedexport.FeedExporter',\n",
      " 'scrapy.extensions.logstats.LogStats']\n",
      "2019-02-18 02:47:33 [scrapy.middleware] INFO: Enabled downloader middlewares:\n",
      "['scrapy.downloadermiddlewares.httpauth.HttpAuthMiddleware',\n",
      " 'scrapy.downloadermiddlewares.downloadtimeout.DownloadTimeoutMiddleware',\n",
      " 'scrapy.downloadermiddlewares.defaultheaders.DefaultHeadersMiddleware',\n",
      " 'scrapy.downloadermiddlewares.useragent.UserAgentMiddleware',\n",
      " 'scrapy.downloadermiddlewares.retry.RetryMiddleware',\n",
      " 'scrapy.downloadermiddlewares.redirect.MetaRefreshMiddleware',\n",
      " 'scrapy.downloadermiddlewares.httpcompression.HttpCompressionMiddleware',\n",
      " 'scrapy.downloadermiddlewares.redirect.RedirectMiddleware',\n",
      " 'scrapy.downloadermiddlewares.cookies.CookiesMiddleware',\n",
      " 'scrapy.downloadermiddlewares.httpproxy.HttpProxyMiddleware',\n",
      " 'scrapy.downloadermiddlewares.stats.DownloaderStats']\n",
      "2019-02-18 02:47:33 [scrapy.middleware] INFO: Enabled spider middlewares:\n",
      "['scrapy.spidermiddlewares.httperror.HttpErrorMiddleware',\n",
      " 'scrapy.spidermiddlewares.offsite.OffsiteMiddleware',\n",
      " 'scrapy.spidermiddlewares.referer.RefererMiddleware',\n",
      " 'scrapy.spidermiddlewares.urllength.UrlLengthMiddleware',\n",
      " 'scrapy.spidermiddlewares.depth.DepthMiddleware']\n",
      "2019-02-18 02:47:33 [scrapy.middleware] INFO: Enabled item pipelines:\n",
      "[]\n",
      "2019-02-18 02:47:33 [scrapy.core.engine] INFO: Spider opened\n",
      "2019-02-18 02:47:33 [scrapy.extensions.logstats] INFO: Crawled 0 pages (at 0 pages/min), scraped 0 items (at 0 items/min)\n",
      "2019-02-18 02:47:33 [scrapy.extensions.telnet] INFO: Telnet console listening on 127.0.0.1:6023\n",
      "2019-02-18 02:47:33 [scrapy.core.engine] DEBUG: Crawled (200) <GET http://www.cgv.co.kr/movies/> (referer: None)\n",
      "2019-02-18 02:47:33 [scrapy.dupefilters] DEBUG: Filtered duplicate request: <GET http://www.cgv.co.kr/movies/detail-view/?midx=81552> - no more duplicates will be shown (see DUPEFILTER_DEBUG to show all duplicates)\n",
      "2019-02-18 02:47:33 [scrapy.core.engine] DEBUG: Crawled (200) <GET http://www.cgv.co.kr/movies/detail-view/?midx=81581> (referer: http://www.cgv.co.kr/movies/)\n",
      "2019-02-18 02:47:33 [scrapy.core.engine] DEBUG: Crawled (200) <GET http://www.cgv.co.kr/movies/detail-view/?midx=80882> (referer: http://www.cgv.co.kr/movies/)\n",
      "2019-02-18 02:47:33 [scrapy.core.scraper] DEBUG: Scraped from <200 http://www.cgv.co.kr/movies/detail-view/?midx=81581>\n",
      "{'count': '13,188명',\n",
      " 'egg_point': ' 99% ',\n",
      " 'title': '증인',\n",
      " 'wish_list_count': '8,253'}\n",
      "2019-02-18 02:47:33 [scrapy.core.engine] DEBUG: Crawled (200) <GET http://www.cgv.co.kr/movies/detail-view/?midx=81567> (referer: http://www.cgv.co.kr/movies/)\n",
      "2019-02-18 02:47:33 [scrapy.core.scraper] DEBUG: Scraped from <200 http://www.cgv.co.kr/movies/detail-view/?midx=80882>\n",
      "{'count': '26,839명',\n",
      " 'egg_point': ' 97% ',\n",
      " 'title': '드래곤 길들이기 3',\n",
      " 'wish_list_count': '31,705'}\n",
      "2019-02-18 02:47:34 [scrapy.core.scraper] DEBUG: Scraped from <200 http://www.cgv.co.kr/movies/detail-view/?midx=81567>\n",
      "{'count': '38,758명',\n",
      " 'egg_point': ' 94% ',\n",
      " 'title': '알리타-배틀 엔젤',\n",
      " 'wish_list_count': '8,561'}\n",
      "2019-02-18 02:47:34 [scrapy.core.engine] DEBUG: Crawled (200) <GET http://www.cgv.co.kr/movies/detail-view/?midx=81552> (referer: http://www.cgv.co.kr/movies/)\n",
      "2019-02-18 02:47:34 [scrapy.core.scraper] DEBUG: Scraped from <200 http://www.cgv.co.kr/movies/detail-view/?midx=81552>\n",
      "{'count': '152,824명',\n",
      " 'egg_point': ' 97% ',\n",
      " 'title': '극한직업',\n",
      " 'wish_list_count': '19,384'}\n",
      "2019-02-18 02:47:34 [scrapy.core.engine] DEBUG: Crawled (200) <GET http://www.cgv.co.kr/movies/detail-view/?midx=81584> (referer: http://www.cgv.co.kr/movies/)\n",
      "2019-02-18 02:47:34 [scrapy.core.engine] DEBUG: Crawled (200) <GET http://www.cgv.co.kr/movies/detail-view/?midx=81574> (referer: http://www.cgv.co.kr/movies/)\n",
      "2019-02-18 02:47:34 [scrapy.core.engine] DEBUG: Crawled (200) <GET http://www.cgv.co.kr/movies/detail-view/?midx=81570> (referer: http://www.cgv.co.kr/movies/)\n",
      "2019-02-18 02:47:34 [scrapy.core.scraper] DEBUG: Scraped from <200 http://www.cgv.co.kr/movies/detail-view/?midx=81584>\n",
      "{'count': '2,087명',\n",
      " 'egg_point': ' 94% ',\n",
      " 'title': '명탐정 코난-전율의 악보',\n",
      " 'wish_list_count': '3,145'}\n",
      "2019-02-18 02:47:34 [scrapy.core.scraper] DEBUG: Scraped from <200 http://www.cgv.co.kr/movies/detail-view/?midx=81574>\n",
      "{'count': '4,575명',\n",
      " 'egg_point': ' 88% ',\n",
      " 'title': '메리 포핀스 리턴즈',\n",
      " 'wish_list_count': '34,757'}\n",
      "2019-02-18 02:47:34 [scrapy.core.scraper] DEBUG: Scraped from <200 http://www.cgv.co.kr/movies/detail-view/?midx=81570>\n",
      "{'count': '5,435명',\n",
      " 'egg_point': ' 85% ',\n",
      " 'title': '해피 데스데이 2유',\n",
      " 'wish_list_count': '4,276'}\n",
      "2019-02-18 02:47:34 [scrapy.core.engine] INFO: Closing spider (finished)\n",
      "2019-02-18 02:47:34 [scrapy.extensions.feedexport] INFO: Stored csv feed (7 items) in: cgv_movie.csv\n",
      "2019-02-18 02:47:34 [scrapy.statscollectors] INFO: Dumping Scrapy stats:\n",
      "{'downloader/request_bytes': 2690,\n",
      " 'downloader/request_count': 8,\n",
      " 'downloader/request_method_count/GET': 8,\n",
      " 'downloader/response_bytes': 1306656,\n",
      " 'downloader/response_count': 8,\n",
      " 'downloader/response_status_count/200': 8,\n",
      " 'dupefilter/filtered': 7,\n",
      " 'finish_reason': 'finished',\n",
      " 'finish_time': datetime.datetime(2019, 2, 17, 17, 47, 34, 450733),\n",
      " 'item_scraped_count': 7,\n",
      " 'log_count/DEBUG': 16,\n",
      " 'log_count/INFO': 10,\n",
      " 'memusage/max': 51884032,\n",
      " 'memusage/startup': 51884032,\n",
      " 'request_depth_max': 1,\n",
      " 'response_received_count': 8,\n",
      " 'scheduler/dequeued': 8,\n",
      " 'scheduler/dequeued/memory': 8,\n",
      " 'scheduler/enqueued': 8,\n",
      " 'scheduler/enqueued/memory': 8,\n",
      " 'start_time': datetime.datetime(2019, 2, 17, 17, 47, 33, 429024)}\n",
      "2019-02-18 02:47:34 [scrapy.core.engine] INFO: Spider closed (finished)\n"
     ]
    }
   ],
   "source": [
    "!source run.sh"
   ]
  },
  {
   "cell_type": "code",
   "execution_count": 53,
   "metadata": {},
   "outputs": [
    {
     "data": {
      "text/html": [
       "<div>\n",
       "<style scoped>\n",
       "    .dataframe tbody tr th:only-of-type {\n",
       "        vertical-align: middle;\n",
       "    }\n",
       "\n",
       "    .dataframe tbody tr th {\n",
       "        vertical-align: top;\n",
       "    }\n",
       "\n",
       "    .dataframe thead th {\n",
       "        text-align: right;\n",
       "    }\n",
       "</style>\n",
       "<table border=\"1\" class=\"dataframe\">\n",
       "  <thead>\n",
       "    <tr style=\"text-align: right;\">\n",
       "      <th></th>\n",
       "      <th>count</th>\n",
       "      <th>egg_point</th>\n",
       "      <th>title</th>\n",
       "      <th>wish_list_count</th>\n",
       "    </tr>\n",
       "  </thead>\n",
       "  <tbody>\n",
       "    <tr>\n",
       "      <th>0</th>\n",
       "      <td>13,188명</td>\n",
       "      <td>99%</td>\n",
       "      <td>증인</td>\n",
       "      <td>8,253</td>\n",
       "    </tr>\n",
       "    <tr>\n",
       "      <th>1</th>\n",
       "      <td>26,839명</td>\n",
       "      <td>97%</td>\n",
       "      <td>드래곤 길들이기 3</td>\n",
       "      <td>31,705</td>\n",
       "    </tr>\n",
       "    <tr>\n",
       "      <th>2</th>\n",
       "      <td>38,758명</td>\n",
       "      <td>94%</td>\n",
       "      <td>알리타-배틀 엔젤</td>\n",
       "      <td>8,561</td>\n",
       "    </tr>\n",
       "    <tr>\n",
       "      <th>3</th>\n",
       "      <td>152,824명</td>\n",
       "      <td>97%</td>\n",
       "      <td>극한직업</td>\n",
       "      <td>19,384</td>\n",
       "    </tr>\n",
       "    <tr>\n",
       "      <th>4</th>\n",
       "      <td>2,087명</td>\n",
       "      <td>94%</td>\n",
       "      <td>명탐정 코난-전율의 악보</td>\n",
       "      <td>3,145</td>\n",
       "    </tr>\n",
       "    <tr>\n",
       "      <th>5</th>\n",
       "      <td>4,575명</td>\n",
       "      <td>88%</td>\n",
       "      <td>메리 포핀스 리턴즈</td>\n",
       "      <td>34,757</td>\n",
       "    </tr>\n",
       "    <tr>\n",
       "      <th>6</th>\n",
       "      <td>5,435명</td>\n",
       "      <td>85%</td>\n",
       "      <td>해피 데스데이 2유</td>\n",
       "      <td>4,276</td>\n",
       "    </tr>\n",
       "  </tbody>\n",
       "</table>\n",
       "</div>"
      ],
      "text/plain": [
       "      count egg_point          title wish_list_count\n",
       "0   13,188명      99%              증인           8,253\n",
       "1   26,839명      97%      드래곤 길들이기 3          31,705\n",
       "2   38,758명      94%       알리타-배틀 엔젤           8,561\n",
       "3  152,824명      97%            극한직업          19,384\n",
       "4    2,087명      94%   명탐정 코난-전율의 악보           3,145\n",
       "5    4,575명      88%      메리 포핀스 리턴즈          34,757\n",
       "6    5,435명      85%      해피 데스데이 2유           4,276"
      ]
     },
     "execution_count": 53,
     "metadata": {},
     "output_type": "execute_result"
    }
   ],
   "source": [
    "import pandas as pd\n",
    "df = pd.read_csv('cgv_movie/cgv_movie.csv')\n",
    "df"
   ]
  },
  {
   "cell_type": "code",
   "execution_count": null,
   "metadata": {},
   "outputs": [],
   "source": []
  }
 ],
 "metadata": {
  "kernelspec": {
   "display_name": "Python 3",
   "language": "python",
   "name": "python3"
  },
  "language_info": {
   "codemirror_mode": {
    "name": "ipython",
    "version": 3
   },
   "file_extension": ".py",
   "mimetype": "text/x-python",
   "name": "python",
   "nbconvert_exporter": "python",
   "pygments_lexer": "ipython3",
   "version": "3.6.0"
  }
 },
 "nbformat": 4,
 "nbformat_minor": 2
}
